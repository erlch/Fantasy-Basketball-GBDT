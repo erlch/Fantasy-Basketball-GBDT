{
  "nbformat": 4,
  "nbformat_minor": 0,
  "metadata": {
    "colab": {
      "provenance": []
    },
    "kernelspec": {
      "name": "python3",
      "display_name": "Python 3"
    },
    "language_info": {
      "name": "python"
    }
  },
  "cells": [
    {
      "cell_type": "markdown",
      "source": [
        "# **Install/Import required Python packages**\n",
        "You'll need Python (3.7+) and the following packages:\n",
        "* `pandas` (data structures)\n",
        "* `lightgbm` (tree-based learning algorithms)\n",
        "* `scikit-learn`\n",
        "* `tqdm` (progress bar)\n",
        "\n",
        "For this project, we will be using game log data from KaggleHub, specifically the [2023-24](https://www.kaggle.com/datasets/joopaivaaaaaaa/nba-gamelogs-2023-24) and [2024-25](https://www.kaggle.com/datasets/joopaivaaaaaaa/nba-gamelogs-2024-25) NBA seasons, to build a dataset for fantasy basketball analysis."
      ],
      "metadata": {
        "id": "Mj6ETI0AAvws"
      }
    },
    {
      "cell_type": "code",
      "source": [
        "pip install pandas lightgbm scikit-learn tqdm"
      ],
      "metadata": {
        "colab": {
          "base_uri": "https://localhost:8080/"
        },
        "id": "5bHPD65eAwIe",
        "outputId": "d6947081-4fe7-4119-c544-2e118ea57274"
      },
      "execution_count": 1,
      "outputs": [
        {
          "output_type": "stream",
          "name": "stdout",
          "text": [
            "Requirement already satisfied: pandas in /usr/local/lib/python3.12/dist-packages (2.2.2)\n",
            "Requirement already satisfied: lightgbm in /usr/local/lib/python3.12/dist-packages (4.6.0)\n",
            "Requirement already satisfied: scikit-learn in /usr/local/lib/python3.12/dist-packages (1.6.1)\n",
            "Requirement already satisfied: tqdm in /usr/local/lib/python3.12/dist-packages (4.67.1)\n",
            "Requirement already satisfied: numpy>=1.26.0 in /usr/local/lib/python3.12/dist-packages (from pandas) (2.0.2)\n",
            "Requirement already satisfied: python-dateutil>=2.8.2 in /usr/local/lib/python3.12/dist-packages (from pandas) (2.9.0.post0)\n",
            "Requirement already satisfied: pytz>=2020.1 in /usr/local/lib/python3.12/dist-packages (from pandas) (2025.2)\n",
            "Requirement already satisfied: tzdata>=2022.7 in /usr/local/lib/python3.12/dist-packages (from pandas) (2025.2)\n",
            "Requirement already satisfied: scipy in /usr/local/lib/python3.12/dist-packages (from lightgbm) (1.16.1)\n",
            "Requirement already satisfied: joblib>=1.2.0 in /usr/local/lib/python3.12/dist-packages (from scikit-learn) (1.5.2)\n",
            "Requirement already satisfied: threadpoolctl>=3.1.0 in /usr/local/lib/python3.12/dist-packages (from scikit-learn) (3.6.0)\n",
            "Requirement already satisfied: six>=1.5 in /usr/local/lib/python3.12/dist-packages (from python-dateutil>=2.8.2->pandas) (1.17.0)\n"
          ]
        }
      ]
    },
    {
      "cell_type": "code",
      "source": [
        "import pandas as pd\n",
        "import numpy as np\n",
        "import kagglehub\n",
        "import unicodedata\n",
        "from tqdm import tqdm\n",
        "import os\n",
        "import lightgbm as lgb\n",
        "from sklearn.model_selection import train_test_split\n",
        "from sklearn.metrics import mean_squared_error\n",
        "from concurrent.futures import ThreadPoolExecutor, as_completed"
      ],
      "metadata": {
        "id": "37AuGaXEAwC1"
      },
      "execution_count": 2,
      "outputs": []
    },
    {
      "cell_type": "markdown",
      "source": [
        "# **Fantasy Basketball Scoring**\n",
        "\n",
        "We will use the default ESPN Fantasy Basketball scoring system as our target for prediction ([source](https://www.espn.com/fantasy/basketball/story/_/id/30296896/espn-fantasy-default-points-league-scoring-explained)):\n",
        "\n",
        "* PTS = +1 (points scored)\n",
        "* FG3M = +1 (3 pointers made)\n",
        "* FGA = -1 (field goals attempted)\n",
        "* FGM = +2 (field goals made)\n",
        "* FTA = -1 (free throws attempted)\n",
        "* FTM = +1 (free throws made)\n",
        "* REB = +1 (rebounds)\n",
        "* AST = +2 (assists)\n",
        "* STL = +4 (steals)\n",
        "* BLK = +4 (blocks)\n",
        "* TOV = -2 (turnovers)\n",
        "\n",
        "Additionally, we will gather player game logs from the last 3 NBA seasons to train the model and predict fantasy performance for the upcoming 2025–26 NBA season."
      ],
      "metadata": {
        "id": "jvxlVAJwB3I9"
      }
    },
    {
      "cell_type": "code",
      "source": [
        "FANTASY_SCORING = {\n",
        "    \"PTS\": 1,\n",
        "    \"FG3M\": 1,\n",
        "    \"FGA\": -1,\n",
        "    \"FGM\": 2,\n",
        "    \"FTA\": -1,\n",
        "    \"FTM\": 1,\n",
        "    \"REB\": 1,\n",
        "    \"AST\": 2,\n",
        "    \"STL\": 4,\n",
        "    \"BLK\": 4,\n",
        "    \"TOV\": -2\n",
        "}"
      ],
      "metadata": {
        "id": "ofXb3SXHB3dc"
      },
      "execution_count": 3,
      "outputs": []
    },
    {
      "cell_type": "markdown",
      "source": [
        "# **Helper Functions**\n",
        "\n",
        "These functions are used to prepare and process the raw NBA data before training the model:\n",
        "\n",
        "`compute_fantasy_points` – Calculates player's fantasy points for given game using the default ESPN Fantasy Basketball scoring system. These fantasy points serve as the target variable for the model."
      ],
      "metadata": {
        "id": "NYluu6shDjX4"
      }
    },
    {
      "cell_type": "code",
      "source": [
        "def compute_fantasy_points(df):\n",
        "    \"\"\"\n",
        "    Compute fantasy points for a player.\n",
        "    \"\"\"\n",
        "    # Compute fantasy points\n",
        "    fantasy_score = (\n",
        "        df[\"points\"] * FANTASY_SCORING[\"PTS\"] +\n",
        "        df[\"threePointersMade\"] * FANTASY_SCORING[\"FG3M\"] +\n",
        "        df[\"fieldGoalsAttempted\"] * FANTASY_SCORING[\"FGA\"] +\n",
        "        df[\"fieldGoalsMade\"] * FANTASY_SCORING[\"FGM\"] +\n",
        "        df[\"freeThrowsAttempted\"] * FANTASY_SCORING[\"FTA\"] +\n",
        "        df[\"freeThrowsMade\"] * FANTASY_SCORING[\"FTM\"] +\n",
        "        df[\"reboundsTotal\"] * FANTASY_SCORING[\"REB\"] +\n",
        "        df[\"assists\"] * FANTASY_SCORING[\"AST\"] +\n",
        "        df[\"steals\"] * FANTASY_SCORING[\"STL\"] +\n",
        "        df[\"blocks\"] * FANTASY_SCORING[\"BLK\"] +\n",
        "        df[\"turnovers\"] * FANTASY_SCORING[\"TOV\"]\n",
        "    )\n",
        "\n",
        "    df[\"fantasyPoints\"] = fantasy_score\n",
        "\n",
        "    return df"
      ],
      "metadata": {
        "id": "V4zOHmXXDp6M"
      },
      "execution_count": 4,
      "outputs": []
    },
    {
      "cell_type": "markdown",
      "source": [
        "# **Build dataset for all active NBA players**\n",
        "\n",
        "Let's prepare the dataset for all active NBA players that will be used to train our Gradient Boosting Decision Tree (GBDT) model.\n",
        "\n",
        "As part of the data preparation, we will be using prepared Kaggle data that includes player game logs from NBA.com using `nba_api` and extract only the relevant features for modeling. Additionally, we will assign separate weights to each of the past 3 seasons, giving the more recent 2024-25 season greater influence on the model while still incorporating the previous seasons.\n",
        "\n",
        "Start and end dates for the NBA seasons are taken from [Basketball Reference](https://www.basketball-reference.com/)."
      ],
      "metadata": {
        "id": "xI1-oH6XFCB0"
      }
    },
    {
      "cell_type": "code",
      "source": [
        "# Download the datasets\n",
        "path = kagglehub.dataset_download(\"eoinamoore/historical-nba-data-and-player-box-scores\")\n",
        "path_players = kagglehub.dataset_download(\"yagizfiratt/nba-players-database\")\n",
        "\n",
        "csv = os.path.join(path, \"PlayerStatistics.csv\")\n",
        "players_csv = os.path.join(path_players, \"PlayerIndex_nba_stats.csv\")\n",
        "\n",
        "df = pd.read_csv(csv)\n",
        "df[\"gameDate\"] = pd.to_datetime(df[\"gameDate\"])\n",
        "\n",
        "df_players = pd.read_csv(players_csv)\n",
        "df_players.rename(columns={\"PERSON_ID\": \"personId\", \"POSITION\": \"position\"}, inplace=True)\n",
        "\n",
        "print(df_players.head())\n",
        "\n",
        "# Define start and end dates for 2022-23 regular season\n",
        "start_date_22_23 = pd.Timestamp(\"2022-10-18 00:00:00\")\n",
        "end_date_22_23 = pd.Timestamp(\"2023-04-09 23:59:59\")\n",
        "\n",
        "# Define start and end dates for 2023-24 regular season\n",
        "start_date_23_24 = pd.Timestamp(\"2023-10-24 00:00:00\")\n",
        "end_date_23_24 = pd.Timestamp(\"2024-04-14 23:59:59\")\n",
        "\n",
        "# Define start and end dates for 2024-25 regular season\n",
        "start_date_24_25 = pd.Timestamp(\"2024-10-22 00:00:00\")\n",
        "end_date_24_25 = pd.Timestamp(\"2025-04-13 23:59:59\")\n",
        "\n",
        "df_22_23 = df[(df[\"gameDate\"] >= start_date_22_23) & (df[\"gameDate\"] <= end_date_22_23)]\n",
        "df_23_24 = df[(df[\"gameDate\"] >= start_date_23_24) & (df[\"gameDate\"] <= end_date_23_24)]\n",
        "df_24_25 = df[(df[\"gameDate\"] >= start_date_24_25) & (df[\"gameDate\"] <= end_date_24_25)]\n",
        "\n",
        "# Merge new position column with each seasons' dataframe based on personId\n",
        "dataframes = [df_22_23, df_23_24, df_24_25]\n",
        "\n",
        "for i, df_season in enumerate(dataframes):\n",
        "    dataframes[i] = df_season.merge(\n",
        "        df_players[[\"personId\", \"position\"]],\n",
        "        on=\"personId\",\n",
        "        how=\"left\"\n",
        "    )\n",
        "\n",
        "# Unpack back into individual variables if needed\n",
        "df_22_23, df_23_24, df_24_25 = dataframes\n",
        "\n",
        "# Combine firstName and lastName into playerName\n",
        "for df_season in [df_22_23, df_23_24, df_24_25]:\n",
        "    df_season[\"playerName\"] = df_season[\"firstName\"] + \" \" + df_season[\"lastName\"]\n",
        "\n",
        "# Preview the data\n",
        "print(\"2022-23 season sample:\")\n",
        "print(df_22_23.head())\n",
        "\n",
        "print(\"\\n2023-24 season sample:\")\n",
        "print(df_23_24.head())\n",
        "\n",
        "print(\"\\n2024-25 season sample:\")\n",
        "print(df_24_25.head())"
      ],
      "metadata": {
        "colab": {
          "base_uri": "https://localhost:8080/"
        },
        "id": "kNACZ2bFkMY8",
        "outputId": "0a4e3e94-c924-4181-a4a1-a451b084a167"
      },
      "execution_count": 5,
      "outputs": [
        {
          "output_type": "stream",
          "name": "stdout",
          "text": [
            "Downloading from https://www.kaggle.com/api/v1/datasets/download/eoinamoore/historical-nba-data-and-player-box-scores?dataset_version_number=239...\n"
          ]
        },
        {
          "output_type": "stream",
          "name": "stderr",
          "text": [
            "100%|██████████| 93.0M/93.0M [00:00<00:00, 115MB/s]"
          ]
        },
        {
          "output_type": "stream",
          "name": "stdout",
          "text": [
            "Extracting files...\n"
          ]
        },
        {
          "output_type": "stream",
          "name": "stderr",
          "text": [
            "\n"
          ]
        },
        {
          "output_type": "stream",
          "name": "stdout",
          "text": [
            "Downloading from https://www.kaggle.com/api/v1/datasets/download/yagizfiratt/nba-players-database?dataset_version_number=1...\n"
          ]
        },
        {
          "output_type": "stream",
          "name": "stderr",
          "text": [
            "100%|██████████| 200k/200k [00:00<00:00, 45.8MB/s]"
          ]
        },
        {
          "output_type": "stream",
          "name": "stdout",
          "text": [
            "Extracting files...\n"
          ]
        },
        {
          "output_type": "stream",
          "name": "stderr",
          "text": [
            "\n",
            "/tmp/ipython-input-227379080.py:8: DtypeWarning: Columns (10,11) have mixed types. Specify dtype option on import or set low_memory=False.\n",
            "  df = pd.read_csv(csv)\n"
          ]
        },
        {
          "output_type": "stream",
          "name": "stdout",
          "text": [
            "   personId PLAYER_LAST_NAME PLAYER_FIRST_NAME          PLAYER_SLUG  \\\n",
            "0     76001        Abdelnaby              Alaa       alaa-abdelnaby   \n",
            "1     76002       Abdul-Aziz              Zaid      zaid-abdul-aziz   \n",
            "2     76003     Abdul-Jabbar            Kareem  kareem-abdul-jabbar   \n",
            "3        51       Abdul-Rauf           Mahmoud   mahmoud-abdul-rauf   \n",
            "4      1505      Abdul-Wahad             Tariq    tariq-abdul-wahad   \n",
            "\n",
            "      TEAM_ID TEAM_SLUG  IS_DEFUNCT    TEAM_CITY      TEAM_NAME  \\\n",
            "0  1610612757   blazers           0     Portland  Trail Blazers   \n",
            "1  1610612745   rockets           0      Houston        Rockets   \n",
            "2  1610612747    lakers           0  Los Angeles         Lakers   \n",
            "3  1610612743   nuggets           0       Denver        Nuggets   \n",
            "4  1610612758     kings           0   Sacramento          Kings   \n",
            "\n",
            "  TEAM_ABBREVIATION  ... DRAFT_YEAR DRAFT_ROUND DRAFT_NUMBER  ROSTER_STATUS  \\\n",
            "0               POR  ...     1990.0         1.0         25.0            NaN   \n",
            "1               HOU  ...     1968.0         1.0          5.0            NaN   \n",
            "2               LAL  ...     1969.0         1.0          1.0            NaN   \n",
            "3               DEN  ...     1990.0         1.0          3.0            NaN   \n",
            "4               SAC  ...     1997.0         1.0         11.0            NaN   \n",
            "\n",
            "    PTS   REB  AST  STATS_TIMEFRAME  FROM_YEAR  TO_YEAR  \n",
            "0   5.7   3.3  0.3           Career       1990     1994  \n",
            "1   9.0   8.0  1.2           Career       1968     1977  \n",
            "2  24.6  11.2  3.6           Career       1969     1988  \n",
            "3  14.6   1.9  3.5           Career       1990     2000  \n",
            "4   7.8   3.3  1.1           Career       1997     2003  \n",
            "\n",
            "[5 rows x 26 columns]\n",
            "2022-23 season sample:\n",
            "  firstName lastName  personId    gameId            gameDate playerteamCity  \\\n",
            "0    JaVale    McGee    201580  22201224 2023-04-09 15:30:00         Dallas   \n",
            "1  Markieff   Morris    202693  22201224 2023-04-09 15:30:00         Dallas   \n",
            "2     Davis  Bertans    202722  22201224 2023-04-09 15:30:00         Dallas   \n",
            "3    Justin  Holiday    203200  22201224 2023-04-09 15:30:00         Dallas   \n",
            "4    Gorgui    Dieng    203476  22201224 2023-04-09 15:30:00    San Antonio   \n",
            "\n",
            "  playerteamName opponentteamCity opponentteamName        gameType  ...  \\\n",
            "0      Mavericks      San Antonio            Spurs  Regular Season  ...   \n",
            "1      Mavericks      San Antonio            Spurs  Regular Season  ...   \n",
            "2      Mavericks      San Antonio            Spurs  Regular Season  ...   \n",
            "3      Mavericks      San Antonio            Spurs  Regular Season  ...   \n",
            "4          Spurs           Dallas        Mavericks  Regular Season  ...   \n",
            "\n",
            "  freeThrowsMade freeThrowsPercentage  reboundsDefensive  reboundsOffensive  \\\n",
            "0            0.0                 0.00                0.0                0.0   \n",
            "1            0.0                 0.00                7.0                0.0   \n",
            "2            0.0                 0.00                5.0                2.0   \n",
            "3            0.0                 0.00                2.0                0.0   \n",
            "4            3.0                 0.75                9.0                1.0   \n",
            "\n",
            "   reboundsTotal  foulsPersonal  turnovers  plusMinusPoints  position  \\\n",
            "0            0.0            0.0        0.0              0.0       C-F   \n",
            "1            7.0            4.0        0.0            -21.0         F   \n",
            "2            7.0            1.0        0.0             -7.0         F   \n",
            "3            2.0            3.0        0.0            -15.0       F-G   \n",
            "4           10.0            2.0        3.0             11.0         C   \n",
            "\n",
            "        playerName  \n",
            "0     JaVale McGee  \n",
            "1  Markieff Morris  \n",
            "2    Davis Bertans  \n",
            "3   Justin Holiday  \n",
            "4     Gorgui Dieng  \n",
            "\n",
            "[5 rows x 37 columns]\n",
            "\n",
            "2023-24 season sample:\n",
            "    firstName       lastName  personId    gameId            gameDate  \\\n",
            "0     DeAndre         Jordan    201599  22301193 2024-04-14 15:30:00   \n",
            "1      Reggie        Jackson    202704  22301193 2024-04-14 15:30:00   \n",
            "2      Justin        Holiday    203200  22301193 2024-04-14 15:30:00   \n",
            "3  Kentavious  Caldwell-Pope    203484  22301193 2024-04-14 15:30:00   \n",
            "4       Aaron         Gordon    203932  22301193 2024-04-14 15:30:00   \n",
            "\n",
            "  playerteamCity playerteamName opponentteamCity opponentteamName  \\\n",
            "0         Denver        Nuggets          Memphis        Grizzlies   \n",
            "1         Denver        Nuggets          Memphis        Grizzlies   \n",
            "2         Denver        Nuggets          Memphis        Grizzlies   \n",
            "3         Denver        Nuggets          Memphis        Grizzlies   \n",
            "4         Denver        Nuggets          Memphis        Grizzlies   \n",
            "\n",
            "         gameType  ... freeThrowsMade freeThrowsPercentage  reboundsDefensive  \\\n",
            "0  Regular Season  ...            0.0                0.000                0.0   \n",
            "1  Regular Season  ...            3.0                1.000                0.0   \n",
            "2  Regular Season  ...            0.0                0.000                1.0   \n",
            "3  Regular Season  ...            0.0                0.000                4.0   \n",
            "4  Regular Season  ...            7.0                0.875                2.0   \n",
            "\n",
            "   reboundsOffensive  reboundsTotal  foulsPersonal  turnovers  \\\n",
            "0                0.0            0.0            0.0        0.0   \n",
            "1                0.0            0.0            3.0        2.0   \n",
            "2                0.0            1.0            1.0        1.0   \n",
            "3                0.0            4.0            1.0        2.0   \n",
            "4                3.0            5.0            2.0        1.0   \n",
            "\n",
            "   plusMinusPoints  position                playerName  \n",
            "0              0.0         C            DeAndre Jordan  \n",
            "1            -12.0         G            Reggie Jackson  \n",
            "2             -7.0       F-G            Justin Holiday  \n",
            "3             23.0         G  Kentavious Caldwell-Pope  \n",
            "4             25.0         F              Aaron Gordon  \n",
            "\n",
            "[5 rows x 37 columns]\n",
            "\n",
            "2024-25 season sample:\n",
            "  firstName   lastName  personId    gameId            gameDate playerteamCity  \\\n",
            "0      Jeff      Green    201145  22401193 2025-04-13 15:30:00        Houston   \n",
            "1   Russell  Westbrook    201566  22401193 2025-04-13 15:30:00         Denver   \n",
            "2   DeAndre     Jordan    201599  22401193 2025-04-13 15:30:00         Denver   \n",
            "3    Steven      Adams    203500  22401193 2025-04-13 15:30:00        Houston   \n",
            "4     Aaron     Gordon    203932  22401193 2025-04-13 15:30:00         Denver   \n",
            "\n",
            "  playerteamName opponentteamCity opponentteamName        gameType  ...  \\\n",
            "0        Rockets           Denver          Nuggets  Regular Season  ...   \n",
            "1        Nuggets          Houston          Rockets  Regular Season  ...   \n",
            "2        Nuggets          Houston          Rockets  Regular Season  ...   \n",
            "3        Rockets           Denver          Nuggets  Regular Season  ...   \n",
            "4        Nuggets          Houston          Rockets  Regular Season  ...   \n",
            "\n",
            "  freeThrowsMade freeThrowsPercentage  reboundsDefensive  reboundsOffensive  \\\n",
            "0            0.0                0.000                2.0                1.0   \n",
            "1            7.0                0.875                0.0                0.0   \n",
            "2            0.0                0.000                3.0                2.0   \n",
            "3            0.0                0.000                4.0                2.0   \n",
            "4            3.0                1.000                3.0                4.0   \n",
            "\n",
            "   reboundsTotal  foulsPersonal  turnovers  plusMinusPoints  position  \\\n",
            "0            3.0            1.0        0.0            -14.0         F   \n",
            "1            0.0            1.0        1.0              8.0         G   \n",
            "2            5.0            0.0        0.0             -9.0         C   \n",
            "3            6.0            2.0        1.0            -23.0         C   \n",
            "4            7.0            0.0        3.0             21.0         F   \n",
            "\n",
            "          playerName  \n",
            "0         Jeff Green  \n",
            "1  Russell Westbrook  \n",
            "2     DeAndre Jordan  \n",
            "3       Steven Adams  \n",
            "4       Aaron Gordon  \n",
            "\n",
            "[5 rows x 37 columns]\n"
          ]
        }
      ]
    },
    {
      "cell_type": "code",
      "source": [
        "# Define relevant columns to keep\n",
        "cols_to_keep = [\n",
        "    \"playerName\", \"playerteamName\", \"position\",\n",
        "    \"points\", \"threePointersMade\", \"fieldGoalsAttempted\",\n",
        "    \"fieldGoalsMade\", \"freeThrowsAttempted\", \"freeThrowsMade\",\n",
        "    \"reboundsTotal\", \"assists\", \"steals\", \"blocks\", \"turnovers\"\n",
        "]\n",
        "\n",
        "# Ensure numeric columns\n",
        "numeric_cols = [\"points\", \"threePointersMade\", \"fieldGoalsAttempted\",\n",
        "    \"fieldGoalsMade\", \"freeThrowsAttempted\", \"freeThrowsMade\",\n",
        "    \"reboundsTotal\", \"assists\", \"steals\", \"blocks\", \"turnovers\"]\n",
        "\n",
        "df_22_23[numeric_cols] = df_22_23[numeric_cols].apply(pd.to_numeric, errors=\"coerce\")\n",
        "df_23_24[numeric_cols] = df_23_24[numeric_cols].apply(pd.to_numeric, errors=\"coerce\")\n",
        "df_24_25[numeric_cols] = df_24_25[numeric_cols].apply(pd.to_numeric, errors=\"coerce\")\n",
        "\n",
        "# Load CSVs into Pandas with only columns we want to keep\n",
        "df_22_23 = df_22_23[cols_to_keep]\n",
        "df_22_23[\"seasonYear\"] = \"2022-23\"\n",
        "\n",
        "df_23_24 = df_23_24[cols_to_keep]\n",
        "df_23_24[\"seasonYear\"] = \"2023-24\"\n",
        "\n",
        "df_24_25 = df_24_25[cols_to_keep]\n",
        "df_24_25[\"seasonYear\"] = \"2024-25\"\n",
        "\n",
        "# Compute total and average Fantasy Points for each season separately\n",
        "df_22_23 = compute_fantasy_points(df_22_23)\n",
        "df_23_24 = compute_fantasy_points(df_23_24)\n",
        "df_24_25 = compute_fantasy_points(df_24_25)\n",
        "\n",
        "# Apply weights for each season\n",
        "df_22_23[\"seasonWeight\"] = 0.2\n",
        "df_23_24[\"seasonWeight\"] = 0.3\n",
        "df_24_25[\"seasonWeight\"] = 0.6\n",
        "\n",
        "# Combine the datasets\n",
        "df = pd.concat([df_22_23, df_23_24, df_24_25], ignore_index=True)\n",
        "df = df.sort_values(by=\"fantasyPoints\", ascending=False).reset_index(drop=True)\n",
        "\n",
        "print(df.head())\n",
        "print(\"Dataset shape:\", df.shape)"
      ],
      "metadata": {
        "colab": {
          "base_uri": "https://localhost:8080/"
        },
        "id": "ADHUx67MHtH1",
        "outputId": "1c62c889-f4ba-4caa-b3e9-bfefe6140b8c"
      },
      "execution_count": 6,
      "outputs": [
        {
          "output_type": "stream",
          "name": "stdout",
          "text": [
            "      playerName playerteamName position  points  threePointersMade  \\\n",
            "0    Luka Doncic      Mavericks      F-G    50.0                8.0   \n",
            "1    Luka Doncic      Mavericks      F-G    73.0                8.0   \n",
            "2    Joel Embiid          76ers      C-F    59.0                1.0   \n",
            "3    Luka Doncic      Mavericks      F-G    60.0                2.0   \n",
            "4  Stephen Curry       Warriors        G    52.0               12.0   \n",
            "\n",
            "   fieldGoalsAttempted  fieldGoalsMade  freeThrowsAttempted  freeThrowsMade  \\\n",
            "0                 25.0            15.0                 12.0            12.0   \n",
            "1                 33.0            25.0                 16.0            15.0   \n",
            "2                 28.0            19.0                 24.0            20.0   \n",
            "3                 31.0            21.0                 22.0            16.0   \n",
            "4                 31.0            16.0                  8.0             8.0   \n",
            "\n",
            "   reboundsTotal  assists  steals  blocks  turnovers seasonYear  \\\n",
            "0            6.0     15.0     4.0     3.0        4.0    2023-24   \n",
            "1           10.0      7.0     1.0     0.0        4.0    2023-24   \n",
            "2           11.0      8.0     1.0     7.0        5.0    2022-23   \n",
            "3           21.0     10.0     2.0     1.0        4.0    2022-23   \n",
            "4           10.0      8.0     5.0     1.0        2.0    2024-25   \n",
            "\n",
            "   fantasyPoints  seasonWeight  \n",
            "0          119.0           0.3  \n",
            "1          117.0           0.3  \n",
            "2          115.0           0.2  \n",
            "3          112.0           0.2  \n",
            "4          111.0           0.6  \n",
            "Dataset shape: (96474, 17)\n"
          ]
        },
        {
          "output_type": "stream",
          "name": "stderr",
          "text": [
            "/tmp/ipython-input-868109903.py:20: SettingWithCopyWarning: \n",
            "A value is trying to be set on a copy of a slice from a DataFrame.\n",
            "Try using .loc[row_indexer,col_indexer] = value instead\n",
            "\n",
            "See the caveats in the documentation: https://pandas.pydata.org/pandas-docs/stable/user_guide/indexing.html#returning-a-view-versus-a-copy\n",
            "  df_22_23[\"seasonYear\"] = \"2022-23\"\n",
            "/tmp/ipython-input-868109903.py:23: SettingWithCopyWarning: \n",
            "A value is trying to be set on a copy of a slice from a DataFrame.\n",
            "Try using .loc[row_indexer,col_indexer] = value instead\n",
            "\n",
            "See the caveats in the documentation: https://pandas.pydata.org/pandas-docs/stable/user_guide/indexing.html#returning-a-view-versus-a-copy\n",
            "  df_23_24[\"seasonYear\"] = \"2023-24\"\n",
            "/tmp/ipython-input-868109903.py:26: SettingWithCopyWarning: \n",
            "A value is trying to be set on a copy of a slice from a DataFrame.\n",
            "Try using .loc[row_indexer,col_indexer] = value instead\n",
            "\n",
            "See the caveats in the documentation: https://pandas.pydata.org/pandas-docs/stable/user_guide/indexing.html#returning-a-view-versus-a-copy\n",
            "  df_24_25[\"seasonYear\"] = \"2024-25\"\n",
            "/tmp/ipython-input-1751089791.py:20: SettingWithCopyWarning: \n",
            "A value is trying to be set on a copy of a slice from a DataFrame.\n",
            "Try using .loc[row_indexer,col_indexer] = value instead\n",
            "\n",
            "See the caveats in the documentation: https://pandas.pydata.org/pandas-docs/stable/user_guide/indexing.html#returning-a-view-versus-a-copy\n",
            "  df[\"fantasyPoints\"] = fantasy_score\n",
            "/tmp/ipython-input-1751089791.py:20: SettingWithCopyWarning: \n",
            "A value is trying to be set on a copy of a slice from a DataFrame.\n",
            "Try using .loc[row_indexer,col_indexer] = value instead\n",
            "\n",
            "See the caveats in the documentation: https://pandas.pydata.org/pandas-docs/stable/user_guide/indexing.html#returning-a-view-versus-a-copy\n",
            "  df[\"fantasyPoints\"] = fantasy_score\n",
            "/tmp/ipython-input-1751089791.py:20: SettingWithCopyWarning: \n",
            "A value is trying to be set on a copy of a slice from a DataFrame.\n",
            "Try using .loc[row_indexer,col_indexer] = value instead\n",
            "\n",
            "See the caveats in the documentation: https://pandas.pydata.org/pandas-docs/stable/user_guide/indexing.html#returning-a-view-versus-a-copy\n",
            "  df[\"fantasyPoints\"] = fantasy_score\n",
            "/tmp/ipython-input-868109903.py:34: SettingWithCopyWarning: \n",
            "A value is trying to be set on a copy of a slice from a DataFrame.\n",
            "Try using .loc[row_indexer,col_indexer] = value instead\n",
            "\n",
            "See the caveats in the documentation: https://pandas.pydata.org/pandas-docs/stable/user_guide/indexing.html#returning-a-view-versus-a-copy\n",
            "  df_22_23[\"seasonWeight\"] = 0.2\n",
            "/tmp/ipython-input-868109903.py:35: SettingWithCopyWarning: \n",
            "A value is trying to be set on a copy of a slice from a DataFrame.\n",
            "Try using .loc[row_indexer,col_indexer] = value instead\n",
            "\n",
            "See the caveats in the documentation: https://pandas.pydata.org/pandas-docs/stable/user_guide/indexing.html#returning-a-view-versus-a-copy\n",
            "  df_23_24[\"seasonWeight\"] = 0.3\n",
            "/tmp/ipython-input-868109903.py:36: SettingWithCopyWarning: \n",
            "A value is trying to be set on a copy of a slice from a DataFrame.\n",
            "Try using .loc[row_indexer,col_indexer] = value instead\n",
            "\n",
            "See the caveats in the documentation: https://pandas.pydata.org/pandas-docs/stable/user_guide/indexing.html#returning-a-view-versus-a-copy\n",
            "  df_24_25[\"seasonWeight\"] = 0.6\n"
          ]
        }
      ]
    },
    {
      "cell_type": "markdown",
      "source": [
        "# **Train Gradient Boosting Model**\n",
        "\n",
        "A LightGBM regression model is trained to predict fantasy points per game using the dataset of NBA player stats we just built. LightGBM is a type of Gradient Boosting Decision Tree (GBDT) that works particularly well for structured tabular data like box scores.\n",
        "\n",
        "`num_boost_round=500` sets the maximum number of boosting iterations (trees) to learn complex patterns in the data.\n",
        "\n",
        "`early_stopping_rounds=50` ensures training stops if the validation error does not improve for 50 consecutive iterations, helping prevent overfitting.\n",
        "\n",
        "`verbose_eval=100` prints progress every 100 iterations so we can monitor the model’s performance.\n",
        "\n",
        "After training, we evaluate the model using Root Mean Squared Error (RMSE), which measures how far the predicted fantasy points deviate from the actual values. A lower RMSE indicates better predictive accuracy."
      ],
      "metadata": {
        "id": "wKk0rqeJI3AT"
      }
    },
    {
      "cell_type": "code",
      "source": [
        "X = df[numeric_cols]\n",
        "y = df[\"fantasyPoints\"]\n",
        "weights = df[\"seasonWeight\"]\n",
        "\n",
        "X_train, X_test, y_train, y_test, w_train, w_test = train_test_split(\n",
        "    X, y, weights, test_size=0.2, random_state=42, shuffle=True\n",
        ")\n",
        "\n",
        "# lgb refers to LightGBM, a popular gradient boosting framework from Microsoft\n",
        "train_data = lgb.Dataset(X_train, label=y_train, weight=w_train)\n",
        "test_data = lgb.Dataset(X_test, label=y_test, weight=w_test, reference=train_data)\n",
        "\n",
        "params = {\n",
        "    \"objective\": \"regression\",\n",
        "    \"metric\": \"rmse\",\n",
        "    \"learning_rate\": 0.05,\n",
        "    \"num_leaves\": 31,\n",
        "    \"feature_fraction\": 0.9,\n",
        "    \"bagging_fraction\": 0.8,\n",
        "    \"bagging_freq\": 5,\n",
        "    \"min_data_in_leaf\": 5,\n",
        "    \"verbose\": -1\n",
        "}\n",
        "\n",
        "# Use a callback for early stopping\n",
        "callbacks = [\n",
        "    lgb.early_stopping(stopping_rounds=50),\n",
        "    lgb.log_evaluation(period=100)\n",
        "]\n",
        "\n",
        "# Train the model\n",
        "model = lgb.train(\n",
        "    params,\n",
        "    train_data,\n",
        "    valid_sets=[test_data],\n",
        "    num_boost_round=500,\n",
        "    callbacks=callbacks\n",
        ")\n",
        "\n",
        "y_pred = model.predict(X_test, num_iteration=model.best_iteration)\n",
        "\n",
        "# Evaluate accuracy of model\n",
        "rmse = np.sqrt(mean_squared_error(y_test, y_pred))\n",
        "print(\"RMSE:\", rmse)"
      ],
      "metadata": {
        "colab": {
          "base_uri": "https://localhost:8080/"
        },
        "id": "Y6LOZ5gSI43Y",
        "outputId": "f586c18a-e141-4beb-ae54-5a5eea3d8db9"
      },
      "execution_count": 7,
      "outputs": [
        {
          "output_type": "stream",
          "name": "stdout",
          "text": [
            "Training until validation scores don't improve for 50 rounds\n",
            "[100]\tvalid_0's rmse: 1.99009\n",
            "[200]\tvalid_0's rmse: 1.04564\n",
            "[300]\tvalid_0's rmse: 0.790337\n",
            "[400]\tvalid_0's rmse: 0.687911\n",
            "[500]\tvalid_0's rmse: 0.63825\n",
            "Did not meet early stopping. Best iteration is:\n",
            "[500]\tvalid_0's rmse: 0.63825\n",
            "RMSE: 0.6382481395456827\n"
          ]
        }
      ]
    },
    {
      "cell_type": "markdown",
      "source": [
        "# **Get Player Rankings**\n",
        "\n",
        "This step produces the final rankings that can be used for fantasy basketball drafts or lineup decisions, taking into account player performance trends, positional roles, and season weights."
      ],
      "metadata": {
        "id": "HV1LaPz8JhYv"
      }
    },
    {
      "cell_type": "code",
      "source": [
        "df[\"predictedFantasyPoints\"] = model.predict(df[numeric_cols])\n",
        "player_ranks = df.groupby([\"playerName\"]).agg(\n",
        "    predictedFantasyPoints=(\"predictedFantasyPoints\", \"mean\"),\n",
        "    fantasyPoints=(\"fantasyPoints\", \"mean\"),\n",
        "    position=(\"position\", \"last\")\n",
        ").reset_index()\n",
        "\n",
        "players = player_ranks.sort_values(by=\"predictedFantasyPoints\", ascending=False).reset_index(drop=True)\n",
        "\n",
        "# Separate by position\n",
        "guards = player_ranks[player_ranks[\"position\"] == \"G\"].sort_values(by=\"predictedFantasyPoints\", ascending=False).reset_index(drop=True)\n",
        "guards_forwards = player_ranks[player_ranks[\"position\"].isin([\"G-F\", \"F-G\"])].sort_values(by=\"predictedFantasyPoints\", ascending=False).reset_index(drop=True)\n",
        "forwards = player_ranks[player_ranks[\"position\"] == \"F\"].sort_values(by=\"predictedFantasyPoints\", ascending=False).reset_index(drop=True)\n",
        "fowards_centers = player_ranks[player_ranks[\"position\"].isin([\"F-C\", \"C-F\"])].sort_values(by=\"predictedFantasyPoints\", ascending=False).reset_index(drop=True)\n",
        "centers = player_ranks[player_ranks[\"position\"] == \"C\"].sort_values(by=\"predictedFantasyPoints\", ascending=False).reset_index(drop=True)"
      ],
      "metadata": {
        "id": "qF_w76mpJX8b"
      },
      "execution_count": 9,
      "outputs": []
    },
    {
      "cell_type": "code",
      "source": [
        "print(\"Top Players:\")\n",
        "print(players.head(25)[[\"playerName\", \"predictedFantasyPoints\"]])\n",
        "\n",
        "print(\"\\nTop Guards:\")\n",
        "print(guards.head(10)[[\"playerName\", \"predictedFantasyPoints\"]])\n",
        "\n",
        "print(\"\\nTop Guards/Forwards:\")\n",
        "print(guards_forwards.head(10)[[\"playerName\", \"predictedFantasyPoints\"]])\n",
        "\n",
        "print(\"\\nTop Forwards:\")\n",
        "print(forwards.head(10)[[\"playerName\", \"predictedFantasyPoints\"]])\n",
        "\n",
        "print(\"\\nTop Forwards/Centers:\")\n",
        "print(fowards_centers.head(10)[[\"playerName\", \"predictedFantasyPoints\"]])\n",
        "\n",
        "print(\"\\nTop Centers:\")\n",
        "print(centers.head(10)[[\"playerName\", \"predictedFantasyPoints\"]])"
      ],
      "metadata": {
        "colab": {
          "base_uri": "https://localhost:8080/"
        },
        "id": "fMlAaRR7Jlzk",
        "outputId": "5c2d681c-f4d3-4c8d-da0f-616f87d767dc"
      },
      "execution_count": 10,
      "outputs": [
        {
          "output_type": "stream",
          "name": "stdout",
          "text": [
            "Top Players:\n",
            "                 playerName  predictedFantasyPoints\n",
            "0              Nikola Jokic               63.661640\n",
            "1               Luka Doncic               58.718196\n",
            "2     Giannis Antetokounmpo               55.705570\n",
            "3   Shai Gilgeous-Alexander               55.065750\n",
            "4         Victor Wembanyama               52.752966\n",
            "5             Anthony Davis               51.472981\n",
            "6               Joel Embiid               49.976682\n",
            "7              LeBron James               49.628619\n",
            "8         Tyrese Haliburton               48.202626\n",
            "9          Domantas Sabonis               47.710981\n",
            "10             Kevin Durant               47.506675\n",
            "11             Jayson Tatum               46.911332\n",
            "12             Kyrie Irving               45.477269\n",
            "13            Stephen Curry               44.658458\n",
            "14             De'Aaron Fox               44.121737\n",
            "15         Donovan Mitchell               43.961669\n",
            "16             James Harden               43.862357\n",
            "17              LaMelo Ball               43.737964\n",
            "18            Kawhi Leonard               43.693438\n",
            "19             Devin Booker               43.671526\n",
            "20               Trae Young               43.323320\n",
            "21           Damian Lillard               43.261203\n",
            "22          Anthony Edwards               42.522229\n",
            "23            Jalen Brunson               41.436477\n",
            "24       Karl-Anthony Towns               40.340533\n",
            "\n",
            "Top Guards:\n",
            "                playerName  predictedFantasyPoints\n",
            "0  Shai Gilgeous-Alexander               55.065750\n",
            "1        Tyrese Haliburton               48.202626\n",
            "2             Kyrie Irving               45.477269\n",
            "3            Stephen Curry               44.658458\n",
            "4             De'Aaron Fox               44.121737\n",
            "5         Donovan Mitchell               43.961669\n",
            "6             James Harden               43.862357\n",
            "7              LaMelo Ball               43.737964\n",
            "8             Devin Booker               43.671526\n",
            "9               Trae Young               43.323320\n",
            "\n",
            "Top Guards/Forwards:\n",
            "       playerName  predictedFantasyPoints\n",
            "0     Luka Doncic               58.718196\n",
            "1    Jayson Tatum               46.911332\n",
            "2   DeMar DeRozan               39.700293\n",
            "3  Scottie Barnes               39.142481\n",
            "4    Jaylen Brown               37.263462\n",
            "5  Jalen Williams               35.682487\n",
            "6   Mikal Bridges               33.821772\n",
            "7   Devin Vassell               31.974396\n",
            "8      OG Anunoby               31.586905\n",
            "9   Amen Thompson               29.328222\n",
            "\n",
            "Top Forwards:\n",
            "              playerName  predictedFantasyPoints\n",
            "0  Giannis Antetokounmpo               55.705570\n",
            "1           LeBron James               49.628619\n",
            "2           Kevin Durant               47.506675\n",
            "3          Kawhi Leonard               43.693438\n",
            "4          Pascal Siakam               39.662887\n",
            "5        Zion Williamson               38.404830\n",
            "6            Paul George               38.309351\n",
            "7         Paolo Banchero               35.940056\n",
            "8         Brandon Ingram               35.864644\n",
            "9           Jimmy Butler               35.620608\n",
            "\n",
            "Top Forwards/Centers:\n",
            "           playerName  predictedFantasyPoints\n",
            "0   Victor Wembanyama               52.752966\n",
            "1       Anthony Davis               51.472981\n",
            "2         Joel Embiid               49.976682\n",
            "3    Domantas Sabonis               47.710981\n",
            "4  Karl-Anthony Towns               40.340533\n",
            "5   Jaren Jackson Jr.               38.835405\n",
            "6         Bam Adebayo               37.831992\n",
            "7       Chet Holmgren               37.687041\n",
            "8  Kristaps Porzingis               37.553775\n",
            "9     Lauri Markkanen               36.912917\n",
            "\n",
            "Top Centers:\n",
            "       playerName  predictedFantasyPoints\n",
            "0    Nikola Jokic               63.661640\n",
            "1  Nikola Vucevic               39.003023\n",
            "2     Evan Mobley               38.582730\n",
            "3  Alperen Sengun               38.089449\n",
            "4   Jarrett Allen               35.086597\n",
            "5     Rudy Gobert               34.519365\n",
            "6     Nic Claxton               33.498185\n",
            "7     Brook Lopez               32.801130\n",
            "8    Jakob Poeltl               32.354443\n",
            "9     Ivica Zubac               32.001412\n"
          ]
        }
      ]
    },
    {
      "cell_type": "code",
      "source": [],
      "metadata": {
        "id": "g2cdhpkEIokd"
      },
      "execution_count": 10,
      "outputs": []
    }
  ]
}